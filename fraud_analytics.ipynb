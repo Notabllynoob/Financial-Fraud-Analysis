{
 "cells": [
  {
   "cell_type": "code",
   "execution_count": 1,
   "id": "479a7e85",
   "metadata": {},
   "outputs": [
    {
     "name": "stdout",
     "output_type": "stream",
     "text": [
      "root\n",
      " |-- step: integer (nullable = true)\n",
      " |-- type: string (nullable = true)\n",
      " |-- amount: double (nullable = true)\n",
      " |-- nameOrig: string (nullable = true)\n",
      " |-- oldbalanceOrg: double (nullable = true)\n",
      " |-- newbalanceOrig: double (nullable = true)\n",
      " |-- nameDest: string (nullable = true)\n",
      " |-- oldbalanceDest: double (nullable = true)\n",
      " |-- newbalanceDest: double (nullable = true)\n",
      " |-- isFraud: integer (nullable = true)\n",
      " |-- isFlaggedFraud: integer (nullable = true)\n",
      "\n",
      "+----+--------+--------+-----------+-------------+--------------+-----------+--------------+--------------+-------+--------------+\n",
      "|step|type    |amount  |nameOrig   |oldbalanceOrg|newbalanceOrig|nameDest   |oldbalanceDest|newbalanceDest|isFraud|isFlaggedFraud|\n",
      "+----+--------+--------+-----------+-------------+--------------+-----------+--------------+--------------+-------+--------------+\n",
      "|1   |PAYMENT |9839.64 |C1231006815|170136.0     |160296.36     |M1979787155|0.0           |0.0           |0      |0             |\n",
      "|1   |PAYMENT |1864.28 |C1666544295|21249.0      |19384.72      |M2044282225|0.0           |0.0           |0      |0             |\n",
      "|1   |TRANSFER|181.0   |C1305486145|181.0        |0.0           |C553264065 |0.0           |0.0           |1      |0             |\n",
      "|1   |CASH_OUT|181.0   |C840083671 |181.0        |0.0           |C38997010  |21182.0       |0.0           |1      |0             |\n",
      "|1   |PAYMENT |11668.14|C2048537720|41554.0      |29885.86      |M1230701703|0.0           |0.0           |0      |0             |\n",
      "+----+--------+--------+-----------+-------------+--------------+-----------+--------------+--------------+-------+--------------+\n",
      "only showing top 5 rows\n"
     ]
    }
   ],
   "source": [
    "from pyspark.sql import SparkSession\n",
    "from pyspark.sql.types import StructType, StructField, StringType, IntegerType, DoubleType\n",
    "from pyspark.sql.functions import col\n",
    "\n",
    "spark = SparkSession.builder \\\n",
    "    .appName(\"FraudAnalytics\") \\\n",
    "    .enableHiveSupport() \\\n",
    "    .getOrCreate()\n",
    "\n",
    "\n",
    "df_raw_sample = spark.read.csv(\"C:\\\\Users\\\\pradh\\\\Desktop\\\\archive (1)\\\\Synthetic_Financial_datasets_log.csv\", header=True, inferSchema=True)\n",
    "df_raw_sample.printSchema()\n",
    "df_raw_sample.show(5, truncate=False)\n"
   ]
  },
  {
   "cell_type": "code",
   "execution_count": 3,
   "id": "6806d5da",
   "metadata": {},
   "outputs": [],
   "source": [
    "from pyspark.sql.types import *\n",
    "\n",
    "schema = StructType([\n",
    "    StructField(\"step\", IntegerType(), True),\n",
    "    StructField(\"type\", StringType(), True),\n",
    "    StructField(\"amount\", DoubleType(), True),\n",
    "    StructField(\"nameOrig\", StringType(), True),\n",
    "    StructField(\"oldbalanceOrg\", DoubleType(), True),\n",
    "    StructField(\"newbalanceOrg\", DoubleType(), True),\n",
    "    StructField(\"nameDest\", StringType(), True),\n",
    "    StructField(\"oldbalanceDest\", DoubleType(), True),\n",
    "    StructField(\"newbalanceDest\", DoubleType(), True),\n",
    "    StructField(\"isFraud\", IntegerType(), True),\n",
    "    StructField(\"isFlaggedFraud\", IntegerType(), True),\n",
    "])\n",
    "\n",
    "df = spark.read.csv(\"C:\\\\Users\\\\pradh\\\\Desktop\\\\archive (1)\\\\Synthetic_Financial_datasets_log.csv\", header=True, schema=schema)\n"
   ]
  },
  {
   "cell_type": "code",
   "execution_count": null,
   "id": "722cbf82",
   "metadata": {},
   "outputs": [
    {
     "name": "stdout",
     "output_type": "stream",
     "text": [
      "rows: 6362620\n",
      "+--------+\n",
      "|    type|\n",
      "+--------+\n",
      "|TRANSFER|\n",
      "| CASH_IN|\n",
      "|CASH_OUT|\n",
      "| PAYMENT|\n",
      "|   DEBIT|\n",
      "+--------+\n",
      "\n",
      "+-------+-------+\n",
      "|isFraud|  count|\n",
      "+-------+-------+\n",
      "|      0|6354407|\n",
      "|      1|   8213|\n",
      "+-------+-------+\n",
      "\n",
      "+--------------+-------+\n",
      "|isFlaggedFraud|  count|\n",
      "+--------------+-------+\n",
      "|             0|6362604|\n",
      "|             1|     16|\n",
      "+--------------+-------+\n",
      "\n",
      "+----+----+------+--------+-------------+-------------+--------+--------------+--------------+-------+--------------+\n",
      "|step|type|amount|nameOrig|oldbalanceOrg|newbalanceOrg|nameDest|oldbalanceDest|newbalanceDest|isFraud|isFlaggedFraud|\n",
      "+----+----+------+--------+-------------+-------------+--------+--------------+--------------+-------+--------------+\n",
      "|   0|   0|     0|       0|            0|            0|       0|             0|             0|      0|             0|\n",
      "+----+----+------+--------+-------------+-------------+--------+--------------+--------------+-------+--------------+\n",
      "\n",
      "+-------+------------------+------------------+-----------------+------------------+------------------+\n",
      "|summary|            amount|     oldbalanceOrg|    newbalanceOrg|    oldbalanceDest|    newbalanceDest|\n",
      "+-------+------------------+------------------+-----------------+------------------+------------------+\n",
      "|  count|           6362620|           6362620|          6362620|           6362620|           6362620|\n",
      "|    min|               0.0|               0.0|              0.0|               0.0|               0.0|\n",
      "|    max|     9.244551664E7|     5.958504037E7|    4.958504037E7|    3.5601588935E8|    3.5617927892E8|\n",
      "|   mean|179861.90354913156| 833883.1040744876|855113.6685785913| 1100701.666519651|1224996.3982019257|\n",
      "| stddev| 603858.2314629381|2888242.6730375625|2924048.502954259|3399180.1129944725|3674128.9421196347|\n",
      "+-------+------------------+------------------+-----------------+------------------+------------------+\n",
      "\n"
     ]
    }
   ],
   "source": [
    "# Row count\n",
    "total_rows = df.count(); print(\"rows:\", total_rows)\n",
    "\n",
    "# Distinct values & sanity of key columns\n",
    "df.select(\"type\").distinct().show(50)\n",
    "df.groupBy(\"isFraud\").count().orderBy(\"isFraud\").show()\n",
    "df.groupBy(\"isFlaggedFraud\").count().orderBy(\"isFlaggedFraud\").show()\n",
    "\n",
    "# Null counts column \n",
    "from pyspark.sql.functions import sum as _sum\n",
    "df.select([_sum(col(c).isNull().cast(\"int\")).alias(c) for c in df.columns]).show()\n",
    "\n",
    "# Numeric summaries\n",
    "df.select(\"amount\",\"oldbalanceOrg\",\"newbalanceOrg\",\"oldbalanceDest\",\"newbalanceDest\").summary(\"count\",\"min\",\"max\",\"mean\",\"stddev\").show()\n"
   ]
  },
  {
   "cell_type": "code",
   "execution_count": 5,
   "id": "9b6fd69e",
   "metadata": {},
   "outputs": [
    {
     "name": "stdout",
     "output_type": "stream",
     "text": [
      "neg_amount: 0 neg_org: 0 neg_dest: 0\n",
      "exact_duplicate_rows: 0\n",
      "+-------+--------------+-------+\n",
      "|isFraud|isFlaggedFraud|  count|\n",
      "+-------+--------------+-------+\n",
      "|      0|             0|6354407|\n",
      "|      1|             0|   8197|\n",
      "|      1|             1|     16|\n",
      "+-------+--------------+-------+\n",
      "\n"
     ]
    }
   ],
   "source": [
    "from pyspark.sql.functions import when\n",
    "\n",
    "# Negative checks\n",
    "neg_amount = df.filter(col(\"amount\") < 0).count()\n",
    "neg_org = df.filter((col(\"oldbalanceOrg\") < 0) | (col(\"newbalanceOrg\") < 0)).count()\n",
    "neg_dest = df.filter((col(\"oldbalanceDest\") < 0) | (col(\"newbalanceDest\") < 0)).count()\n",
    "print(\"neg_amount:\", neg_amount, \"neg_org:\", neg_org, \"neg_dest:\", neg_dest)\n",
    "\n",
    "# Duplicates\n",
    "dups = df.count() - df.dropDuplicates().count()\n",
    "print(\"exact_duplicate_rows:\", dups)\n",
    "\n",
    "# Weird flags\n",
    "df.groupBy(\"isFraud\",\"isFlaggedFraud\").count().orderBy(\"isFraud\",\"isFlaggedFraud\").show()\n"
   ]
  },
  {
   "cell_type": "code",
   "execution_count": null,
   "id": "5d863573",
   "metadata": {},
   "outputs": [
    {
     "name": "stdout",
     "output_type": "stream",
     "text": [
      "After cleaning: 6362620\n"
     ]
    }
   ],
   "source": [
    "\n",
    "df_clean = df.dropDuplicates()\n",
    "\n",
    "print(\"After cleaning:\", df_clean.count())\n"
   ]
  },
  {
   "cell_type": "code",
   "execution_count": 7,
   "id": "e346e124",
   "metadata": {},
   "outputs": [
    {
     "name": "stdout",
     "output_type": "stream",
     "text": [
      "+-------+-------+\n",
      "|isFraud|  count|\n",
      "+-------+-------+\n",
      "|      1|   8213|\n",
      "|      0|6354407|\n",
      "+-------+-------+\n",
      "\n",
      "+-------+------------------+\n",
      "|summary|            amount|\n",
      "+-------+------------------+\n",
      "|  count|           6362620|\n",
      "|    min|               0.0|\n",
      "|    max|     9.244551664E7|\n",
      "|   mean|179861.90354913048|\n",
      "| stddev| 603858.2314629363|\n",
      "+-------+------------------+\n",
      "\n"
     ]
    }
   ],
   "source": [
    "# Fraud vs non-fraud \n",
    "df_clean.groupBy(\"isFraud\").count().show()\n",
    "\n",
    "# Amount summary\n",
    "df_clean.select(\"amount\").summary(\"count\",\"min\",\"max\",\"mean\",\"stddev\").show()\n"
   ]
  }
 ],
 "metadata": {
  "kernelspec": {
   "display_name": "Python 3",
   "language": "python",
   "name": "python3"
  },
  "language_info": {
   "codemirror_mode": {
    "name": "ipython",
    "version": 3
   },
   "file_extension": ".py",
   "mimetype": "text/x-python",
   "name": "python",
   "nbconvert_exporter": "python",
   "pygments_lexer": "ipython3",
   "version": "3.13.7"
  }
 },
 "nbformat": 4,
 "nbformat_minor": 5
}
