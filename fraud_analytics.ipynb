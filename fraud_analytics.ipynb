{
 "cells": [
  {
   "cell_type": "code",
   "execution_count": 2,
   "id": "479a7e85",
   "metadata": {},
   "outputs": [
    {
     "name": "stdout",
     "output_type": "stream",
     "text": [
      "root\n",
      " |-- step: integer (nullable = true)\n",
      " |-- type: string (nullable = true)\n",
      " |-- amount: double (nullable = true)\n",
      " |-- nameOrig: string (nullable = true)\n",
      " |-- oldbalanceOrg: double (nullable = true)\n",
      " |-- newbalanceOrig: double (nullable = true)\n",
      " |-- nameDest: string (nullable = true)\n",
      " |-- oldbalanceDest: double (nullable = true)\n",
      " |-- newbalanceDest: double (nullable = true)\n",
      " |-- isFraud: integer (nullable = true)\n",
      " |-- isFlaggedFraud: integer (nullable = true)\n",
      "\n",
      "+----+--------+--------+-----------+-------------+--------------+-----------+--------------+--------------+-------+--------------+\n",
      "|step|type    |amount  |nameOrig   |oldbalanceOrg|newbalanceOrig|nameDest   |oldbalanceDest|newbalanceDest|isFraud|isFlaggedFraud|\n",
      "+----+--------+--------+-----------+-------------+--------------+-----------+--------------+--------------+-------+--------------+\n",
      "|1   |PAYMENT |9839.64 |C1231006815|170136.0     |160296.36     |M1979787155|0.0           |0.0           |0      |0             |\n",
      "|1   |PAYMENT |1864.28 |C1666544295|21249.0      |19384.72      |M2044282225|0.0           |0.0           |0      |0             |\n",
      "|1   |TRANSFER|181.0   |C1305486145|181.0        |0.0           |C553264065 |0.0           |0.0           |1      |0             |\n",
      "|1   |CASH_OUT|181.0   |C840083671 |181.0        |0.0           |C38997010  |21182.0       |0.0           |1      |0             |\n",
      "|1   |PAYMENT |11668.14|C2048537720|41554.0      |29885.86      |M1230701703|0.0           |0.0           |0      |0             |\n",
      "+----+--------+--------+-----------+-------------+--------------+-----------+--------------+--------------+-------+--------------+\n",
      "only showing top 5 rows\n"
     ]
    }
   ],
   "source": [
    "from pyspark.sql import SparkSession\n",
    "from pyspark.sql.types import StructType, StructField, StringType, IntegerType, DoubleType\n",
    "from pyspark.sql.functions import col\n",
    "\n",
    "spark = SparkSession.builder \\\n",
    "    .appName(\"FraudAnalytics\") \\\n",
    "    .enableHiveSupport() \\\n",
    "    .getOrCreate()\n",
    "\n",
    "\n",
    "df_raw_sample = spark.read.csv(\"C:\\\\Users\\\\pradh\\\\Desktop\\\\archive (1)\\\\Synthetic_Financial_datasets_log.csv\", header=True, inferSchema=True)\n",
    "df_raw_sample.printSchema()\n",
    "df_raw_sample.show(5, truncate=False)\n"
   ]
  },
  {
   "cell_type": "code",
   "execution_count": 3,
   "id": "6806d5da",
   "metadata": {},
   "outputs": [],
   "source": [
    "from pyspark.sql.types import *\n",
    "\n",
    "schema = StructType([\n",
    "    StructField(\"step\", IntegerType(), True),\n",
    "    StructField(\"type\", StringType(), True),\n",
    "    StructField(\"amount\", DoubleType(), True),\n",
    "    StructField(\"nameOrig\", StringType(), True),\n",
    "    StructField(\"oldbalanceOrg\", DoubleType(), True),\n",
    "    StructField(\"newbalanceOrg\", DoubleType(), True),\n",
    "    StructField(\"nameDest\", StringType(), True),\n",
    "    StructField(\"oldbalanceDest\", DoubleType(), True),\n",
    "    StructField(\"newbalanceDest\", DoubleType(), True),\n",
    "    StructField(\"isFraud\", IntegerType(), True),\n",
    "    StructField(\"isFlaggedFraud\", IntegerType(), True),\n",
    "])\n",
    "\n",
    "df = spark.read.csv(\"C:\\\\Users\\\\pradh\\\\Desktop\\\\archive (1)\\\\Synthetic_Financial_datasets_log.csv\", header=True, schema=schema)\n"
   ]
  },
  {
   "cell_type": "code",
   "execution_count": 4,
   "id": "722cbf82",
   "metadata": {},
   "outputs": [
    {
     "name": "stdout",
     "output_type": "stream",
     "text": [
      "rows: 6362620\n",
      "+--------+\n",
      "|    type|\n",
      "+--------+\n",
      "|TRANSFER|\n",
      "| CASH_IN|\n",
      "|CASH_OUT|\n",
      "| PAYMENT|\n",
      "|   DEBIT|\n",
      "+--------+\n",
      "\n",
      "+-------+-------+\n",
      "|isFraud|  count|\n",
      "+-------+-------+\n",
      "|      0|6354407|\n",
      "|      1|   8213|\n",
      "+-------+-------+\n",
      "\n",
      "+--------------+-------+\n",
      "|isFlaggedFraud|  count|\n",
      "+--------------+-------+\n",
      "|             0|6362604|\n",
      "|             1|     16|\n",
      "+--------------+-------+\n",
      "\n",
      "+----+----+------+--------+-------------+-------------+--------+--------------+--------------+-------+--------------+\n",
      "|step|type|amount|nameOrig|oldbalanceOrg|newbalanceOrg|nameDest|oldbalanceDest|newbalanceDest|isFraud|isFlaggedFraud|\n",
      "+----+----+------+--------+-------------+-------------+--------+--------------+--------------+-------+--------------+\n",
      "|   0|   0|     0|       0|            0|            0|       0|             0|             0|      0|             0|\n",
      "+----+----+------+--------+-------------+-------------+--------+--------------+--------------+-------+--------------+\n",
      "\n",
      "+-------+------------------+------------------+-----------------+------------------+------------------+\n",
      "|summary|            amount|     oldbalanceOrg|    newbalanceOrg|    oldbalanceDest|    newbalanceDest|\n",
      "+-------+------------------+------------------+-----------------+------------------+------------------+\n",
      "|  count|           6362620|           6362620|          6362620|           6362620|           6362620|\n",
      "|    min|               0.0|               0.0|              0.0|               0.0|               0.0|\n",
      "|    max|     9.244551664E7|     5.958504037E7|    4.958504037E7|    3.5601588935E8|    3.5617927892E8|\n",
      "|   mean|179861.90354913156| 833883.1040744876|855113.6685785913| 1100701.666519651|1224996.3982019257|\n",
      "| stddev| 603858.2314629381|2888242.6730375625|2924048.502954259|3399180.1129944725|3674128.9421196347|\n",
      "+-------+------------------+------------------+-----------------+------------------+------------------+\n",
      "\n"
     ]
    }
   ],
   "source": [
    "# Row count\n",
    "total_rows = df.count(); print(\"rows:\", total_rows)\n",
    "\n",
    "# Distinct values & sanity of key columns\n",
    "df.select(\"type\").distinct().show(50)\n",
    "df.groupBy(\"isFraud\").count().orderBy(\"isFraud\").show()\n",
    "df.groupBy(\"isFlaggedFraud\").count().orderBy(\"isFlaggedFraud\").show()\n",
    "\n",
    "# Null counts column \n",
    "from pyspark.sql.functions import sum as _sum\n",
    "df.select([_sum(col(c).isNull().cast(\"int\")).alias(c) for c in df.columns]).show()\n",
    "\n",
    "# Numeric summaries\n",
    "df.select(\"amount\",\"oldbalanceOrg\",\"newbalanceOrg\",\"oldbalanceDest\",\"newbalanceDest\").summary(\"count\",\"min\",\"max\",\"mean\",\"stddev\").show()\n"
   ]
  },
  {
   "cell_type": "code",
   "execution_count": 5,
   "id": "9b6fd69e",
   "metadata": {},
   "outputs": [
    {
     "name": "stdout",
     "output_type": "stream",
     "text": [
      "neg_amount: 0 neg_org: 0 neg_dest: 0\n",
      "exact_duplicate_rows: 0\n",
      "+-------+--------------+-------+\n",
      "|isFraud|isFlaggedFraud|  count|\n",
      "+-------+--------------+-------+\n",
      "|      0|             0|6354407|\n",
      "|      1|             0|   8197|\n",
      "|      1|             1|     16|\n",
      "+-------+--------------+-------+\n",
      "\n"
     ]
    }
   ],
   "source": [
    "from pyspark.sql.functions import when\n",
    "\n",
    "# Negative checks\n",
    "neg_amount = df.filter(col(\"amount\") < 0).count()\n",
    "neg_org = df.filter((col(\"oldbalanceOrg\") < 0) | (col(\"newbalanceOrg\") < 0)).count()\n",
    "neg_dest = df.filter((col(\"oldbalanceDest\") < 0) | (col(\"newbalanceDest\") < 0)).count()\n",
    "print(\"neg_amount:\", neg_amount, \"neg_org:\", neg_org, \"neg_dest:\", neg_dest)\n",
    "\n",
    "# Duplicates\n",
    "dups = df.count() - df.dropDuplicates().count()\n",
    "print(\"exact_duplicate_rows:\", dups)\n",
    "\n",
    "# Weird flags\n",
    "df.groupBy(\"isFraud\",\"isFlaggedFraud\").count().orderBy(\"isFraud\",\"isFlaggedFraud\").show()\n"
   ]
  },
  {
   "cell_type": "code",
   "execution_count": 6,
   "id": "5d863573",
   "metadata": {},
   "outputs": [
    {
     "name": "stdout",
     "output_type": "stream",
     "text": [
      "After cleaning: 6362620\n"
     ]
    }
   ],
   "source": [
    "\n",
    "df_clean = df.dropDuplicates()\n",
    "\n",
    "print(\"After cleaning:\", df_clean.count())\n"
   ]
  },
  {
   "cell_type": "code",
   "execution_count": 7,
   "id": "e346e124",
   "metadata": {},
   "outputs": [
    {
     "name": "stdout",
     "output_type": "stream",
     "text": [
      "+-------+-------+\n",
      "|isFraud|  count|\n",
      "+-------+-------+\n",
      "|      1|   8213|\n",
      "|      0|6354407|\n",
      "+-------+-------+\n",
      "\n",
      "+-------+------------------+\n",
      "|summary|            amount|\n",
      "+-------+------------------+\n",
      "|  count|           6362620|\n",
      "|    min|               0.0|\n",
      "|    max|     9.244551664E7|\n",
      "|   mean|179861.90354913048|\n",
      "| stddev| 603858.2314629363|\n",
      "+-------+------------------+\n",
      "\n"
     ]
    }
   ],
   "source": [
    "# Fraud vs non-fraud \n",
    "df_clean.groupBy(\"isFraud\").count().show()\n",
    "\n",
    "# Amount summary\n",
    "df_clean.select(\"amount\").summary(\"count\",\"min\",\"max\",\"mean\",\"stddev\").show()\n"
   ]
  },
  {
   "cell_type": "code",
   "execution_count": 8,
   "id": "2a64138a",
   "metadata": {},
   "outputs": [
    {
     "ename": "SparkRuntimeException",
     "evalue": "[LOCATION_ALREADY_EXISTS] Cannot name the managed table as `spark_catalog`.`fraud_analytics`.`transactions_clean`, as its associated location 'file:/C:/Users/pradh/Desktop/Financial_Fraud_Analysis/spark-warehouse/fraud_analytics.db/transactions_clean' already exists. Please pick a different table name, or remove the existing location first. SQLSTATE: 42710",
     "output_type": "error",
     "traceback": [
      "\u001b[31m---------------------------------------------------------------------------\u001b[39m",
      "\u001b[31mSparkRuntimeException\u001b[39m                     Traceback (most recent call last)",
      "\u001b[36mCell\u001b[39m\u001b[36m \u001b[39m\u001b[32mIn[8]\u001b[39m\u001b[32m, line 4\u001b[39m\n\u001b[32m      1\u001b[39m spark.sql(\u001b[33m\"\u001b[39m\u001b[33mCREATE DATABASE IF NOT EXISTS fraud_analytics\u001b[39m\u001b[33m\"\u001b[39m)\n\u001b[32m      2\u001b[39m spark.catalog.setCurrentDatabase(\u001b[33m\"\u001b[39m\u001b[33mfraud_analytics\u001b[39m\u001b[33m\"\u001b[39m)\n\u001b[32m----> \u001b[39m\u001b[32m4\u001b[39m \u001b[43mdf_clean\u001b[49m\u001b[43m.\u001b[49m\u001b[43mwrite\u001b[49m\u001b[43m.\u001b[49m\u001b[43mmode\u001b[49m\u001b[43m(\u001b[49m\u001b[33;43m\"\u001b[39;49m\u001b[33;43moverwrite\u001b[39;49m\u001b[33;43m\"\u001b[39;49m\u001b[43m)\u001b[49m\u001b[43m.\u001b[49m\u001b[43mformat\u001b[49m\u001b[43m(\u001b[49m\u001b[33;43m\"\u001b[39;49m\u001b[33;43mparquet\u001b[39;49m\u001b[33;43m\"\u001b[39;49m\u001b[43m)\u001b[49m\u001b[43m.\u001b[49m\u001b[43msaveAsTable\u001b[49m\u001b[43m(\u001b[49m\u001b[33;43m\"\u001b[39;49m\u001b[33;43mtransactions_clean\u001b[39;49m\u001b[33;43m\"\u001b[39;49m\u001b[43m)\u001b[49m\n\u001b[32m      6\u001b[39m \u001b[38;5;66;03m# sanity check\u001b[39;00m\n\u001b[32m      7\u001b[39m spark.sql(\u001b[33m\"\u001b[39m\u001b[33mSHOW TABLES\u001b[39m\u001b[33m\"\u001b[39m).show()\n",
      "\u001b[36mFile \u001b[39m\u001b[32m~\\AppData\\Roaming\\Python\\Python313\\site-packages\\pyspark\\sql\\readwriter.py:1868\u001b[39m, in \u001b[36mDataFrameWriter.saveAsTable\u001b[39m\u001b[34m(self, name, format, mode, partitionBy, **options)\u001b[39m\n\u001b[32m   1866\u001b[39m \u001b[38;5;28;01mif\u001b[39;00m \u001b[38;5;28mformat\u001b[39m \u001b[38;5;129;01mis\u001b[39;00m \u001b[38;5;129;01mnot\u001b[39;00m \u001b[38;5;28;01mNone\u001b[39;00m:\n\u001b[32m   1867\u001b[39m     \u001b[38;5;28mself\u001b[39m.format(\u001b[38;5;28mformat\u001b[39m)\n\u001b[32m-> \u001b[39m\u001b[32m1868\u001b[39m \u001b[38;5;28;43mself\u001b[39;49m\u001b[43m.\u001b[49m\u001b[43m_jwrite\u001b[49m\u001b[43m.\u001b[49m\u001b[43msaveAsTable\u001b[49m\u001b[43m(\u001b[49m\u001b[43mname\u001b[49m\u001b[43m)\u001b[49m\n",
      "\u001b[36mFile \u001b[39m\u001b[32m~\\AppData\\Roaming\\Python\\Python313\\site-packages\\py4j\\java_gateway.py:1362\u001b[39m, in \u001b[36mJavaMember.__call__\u001b[39m\u001b[34m(self, *args)\u001b[39m\n\u001b[32m   1356\u001b[39m command = proto.CALL_COMMAND_NAME +\\\n\u001b[32m   1357\u001b[39m     \u001b[38;5;28mself\u001b[39m.command_header +\\\n\u001b[32m   1358\u001b[39m     args_command +\\\n\u001b[32m   1359\u001b[39m     proto.END_COMMAND_PART\n\u001b[32m   1361\u001b[39m answer = \u001b[38;5;28mself\u001b[39m.gateway_client.send_command(command)\n\u001b[32m-> \u001b[39m\u001b[32m1362\u001b[39m return_value = \u001b[43mget_return_value\u001b[49m\u001b[43m(\u001b[49m\n\u001b[32m   1363\u001b[39m \u001b[43m    \u001b[49m\u001b[43manswer\u001b[49m\u001b[43m,\u001b[49m\u001b[43m \u001b[49m\u001b[38;5;28;43mself\u001b[39;49m\u001b[43m.\u001b[49m\u001b[43mgateway_client\u001b[49m\u001b[43m,\u001b[49m\u001b[43m \u001b[49m\u001b[38;5;28;43mself\u001b[39;49m\u001b[43m.\u001b[49m\u001b[43mtarget_id\u001b[49m\u001b[43m,\u001b[49m\u001b[43m \u001b[49m\u001b[38;5;28;43mself\u001b[39;49m\u001b[43m.\u001b[49m\u001b[43mname\u001b[49m\u001b[43m)\u001b[49m\n\u001b[32m   1365\u001b[39m \u001b[38;5;28;01mfor\u001b[39;00m temp_arg \u001b[38;5;129;01min\u001b[39;00m temp_args:\n\u001b[32m   1366\u001b[39m     \u001b[38;5;28;01mif\u001b[39;00m \u001b[38;5;28mhasattr\u001b[39m(temp_arg, \u001b[33m\"\u001b[39m\u001b[33m_detach\u001b[39m\u001b[33m\"\u001b[39m):\n",
      "\u001b[36mFile \u001b[39m\u001b[32m~\\AppData\\Roaming\\Python\\Python313\\site-packages\\pyspark\\errors\\exceptions\\captured.py:288\u001b[39m, in \u001b[36mcapture_sql_exception.<locals>.deco\u001b[39m\u001b[34m(*a, **kw)\u001b[39m\n\u001b[32m    284\u001b[39m converted = convert_exception(e.java_exception)\n\u001b[32m    285\u001b[39m \u001b[38;5;28;01mif\u001b[39;00m \u001b[38;5;129;01mnot\u001b[39;00m \u001b[38;5;28misinstance\u001b[39m(converted, UnknownException):\n\u001b[32m    286\u001b[39m     \u001b[38;5;66;03m# Hide where the exception came from that shows a non-Pythonic\u001b[39;00m\n\u001b[32m    287\u001b[39m     \u001b[38;5;66;03m# JVM exception message.\u001b[39;00m\n\u001b[32m--> \u001b[39m\u001b[32m288\u001b[39m     \u001b[38;5;28;01mraise\u001b[39;00m converted \u001b[38;5;28;01mfrom\u001b[39;00m\u001b[38;5;250m \u001b[39m\u001b[38;5;28;01mNone\u001b[39;00m\n\u001b[32m    289\u001b[39m \u001b[38;5;28;01melse\u001b[39;00m:\n\u001b[32m    290\u001b[39m     \u001b[38;5;28;01mraise\u001b[39;00m\n",
      "\u001b[31mSparkRuntimeException\u001b[39m: [LOCATION_ALREADY_EXISTS] Cannot name the managed table as `spark_catalog`.`fraud_analytics`.`transactions_clean`, as its associated location 'file:/C:/Users/pradh/Desktop/Financial_Fraud_Analysis/spark-warehouse/fraud_analytics.db/transactions_clean' already exists. Please pick a different table name, or remove the existing location first. SQLSTATE: 42710"
     ]
    }
   ],
   "source": [
    "spark.sql(\"CREATE DATABASE IF NOT EXISTS fraud_analytics\")\n",
    "spark.catalog.setCurrentDatabase(\"fraud_analytics\")\n",
    "\n",
    "df_clean.write.mode(\"overwrite\").format(\"parquet\").saveAsTable(\"transactions_clean\")\n",
    "\n",
    "# sanity check\n",
    "spark.sql(\"SHOW TABLES\").show()\n",
    "spark.sql(\"SELECT COUNT(*) FROM transactions_clean\").show()\n"
   ]
  }
 ],
 "metadata": {
  "kernelspec": {
   "display_name": "Python 3",
   "language": "python",
   "name": "python3"
  },
  "language_info": {
   "codemirror_mode": {
    "name": "ipython",
    "version": 3
   },
   "file_extension": ".py",
   "mimetype": "text/x-python",
   "name": "python",
   "nbconvert_exporter": "python",
   "pygments_lexer": "ipython3",
   "version": "3.13.7"
  }
 },
 "nbformat": 4,
 "nbformat_minor": 5
}
